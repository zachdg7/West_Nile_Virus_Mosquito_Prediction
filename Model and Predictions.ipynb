{
 "cells": [
  {
   "cell_type": "markdown",
   "metadata": {},
   "source": [
    "# Modeling and Predictions\n",
    "\n",
    "### Cleaning\n",
    "1. Weather data prep\n",
    "\n",
    "### Feature Engineering\n",
    "2. Engineering weather features\n",
    "    - Rolling averages\n",
    "    - Combine same-day trap results\n",
    "3. Location weighting\n",
    "4. Clustering\n",
    "5. Combine weather and train datasets\n",
    "6. Interaction effects\n",
    "\n",
    "### Munging\n",
    "7. Undersampling\n",
    "8. Feature selection\n",
    "    - Get dummies \n",
    "    - Scaling\n",
    "    - Concat\n",
    "    - Omit columns not in test dataset\n",
    "    \n",
    "### Modeling\n",
    "9. Train test split\n",
    "10. Modeling\n",
    "11. Predict"
   ]
  },
  {
   "cell_type": "code",
   "execution_count": 1,
   "metadata": {},
   "outputs": [],
   "source": [
    "import pandas as pd\n",
    "import numpy as np\n",
    "import time\n",
    "import matplotlib.pyplot as plt\n",
    "\n",
    "from sklearn.model_selection import train_test_split, GridSearchCV\n",
    "from sklearn.metrics import confusion_matrix, roc_curve, auc\n",
    "from sklearn.preprocessing import StandardScaler, PolynomialFeatures\n",
    "from sklearn.cluster import KMeans, AgglomerativeClustering, DBSCAN\n",
    "\n",
    "# importing models:\n",
    "from sklearn.ensemble import RandomForestClassifier, AdaBoostClassifier, GradientBoostingClassifier, ExtraTreesClassifier\n",
    "from sklearn.naive_bayes import GaussianNB, MultinomialNB, BernoulliNB\n",
    "from sklearn import svm\n",
    "from sklearn.linear_model import LogisticRegression\n",
    "from sklearn.neighbors import KNeighborsClassifier\n",
    "\n",
    "%matplotlib inline\n",
    "\n",
    "all_start_time = time.time() # this is to keep a tab on how long it takes this notebook to run\n"
   ]
  },
  {
   "cell_type": "code",
   "execution_count": 2,
   "metadata": {},
   "outputs": [],
   "source": [
    "train = pd.read_csv('assets/train.csv')\n",
    "test = pd.read_csv('assets/test.csv')\n",
    "dirty_weather = pd.read_csv('assets/weather.csv')"
   ]
  },
  {
   "cell_type": "markdown",
   "metadata": {},
   "source": [
    "## Weather Data Prep:"
   ]
  },
  {
   "cell_type": "code",
   "execution_count": 3,
   "metadata": {},
   "outputs": [],
   "source": [
    "# dropped features from weather:\n",
    "#     hot, cool -deemed unnecessary\n",
    "#     water1 this is entirely missing values\n",
    "#     depth contains only zeros and missing values(for station 2), no information\n",
    "#     Snowfall because all but 13 values were either 0 or missing\n",
    "#     Codesum because that information is contained in precipitation (mostly)\n",
    "\n",
    "to_drop = ['Heat', 'Cool', 'Water1', 'Depth', 'SnowFall', 'CodeSum']\n",
    "weather = dirty_weather.drop(axis = 1, columns = to_drop)\n",
    "\n",
    "# precip \"Trace\" ('T') amounts are defined as less than (0.005 inch) according to chicagotribune\n",
    "weather['PrecipTotal'].replace(to_replace = 'T', value = 0.005, inplace=True, regex = True)"
   ]
  },
  {
   "cell_type": "code",
   "execution_count": 4,
   "metadata": {},
   "outputs": [
    {
     "data": {
      "text/html": [
       "<div>\n",
       "<style scoped>\n",
       "    .dataframe tbody tr th:only-of-type {\n",
       "        vertical-align: middle;\n",
       "    }\n",
       "\n",
       "    .dataframe tbody tr th {\n",
       "        vertical-align: top;\n",
       "    }\n",
       "\n",
       "    .dataframe thead th {\n",
       "        text-align: right;\n",
       "    }\n",
       "</style>\n",
       "<table border=\"1\" class=\"dataframe\">\n",
       "  <thead>\n",
       "    <tr style=\"text-align: right;\">\n",
       "      <th></th>\n",
       "      <th>Station</th>\n",
       "      <th>Date</th>\n",
       "      <th>Tmax</th>\n",
       "      <th>Tmin</th>\n",
       "      <th>Tavg</th>\n",
       "      <th>Depart</th>\n",
       "      <th>DewPoint</th>\n",
       "      <th>WetBulb</th>\n",
       "      <th>Sunrise</th>\n",
       "      <th>Sunset</th>\n",
       "      <th>PrecipTotal</th>\n",
       "      <th>StnPressure</th>\n",
       "      <th>SeaLevel</th>\n",
       "      <th>ResultSpeed</th>\n",
       "      <th>ResultDir</th>\n",
       "      <th>AvgSpeed</th>\n",
       "    </tr>\n",
       "  </thead>\n",
       "  <tbody>\n",
       "    <tr>\n",
       "      <th>0</th>\n",
       "      <td>1</td>\n",
       "      <td>2007-05-01</td>\n",
       "      <td>83</td>\n",
       "      <td>50</td>\n",
       "      <td>67</td>\n",
       "      <td>14</td>\n",
       "      <td>51</td>\n",
       "      <td>56</td>\n",
       "      <td>0448</td>\n",
       "      <td>1849</td>\n",
       "      <td>0.00</td>\n",
       "      <td>29.10</td>\n",
       "      <td>29.82</td>\n",
       "      <td>1.7</td>\n",
       "      <td>27</td>\n",
       "      <td>9.2</td>\n",
       "    </tr>\n",
       "    <tr>\n",
       "      <th>1</th>\n",
       "      <td>2</td>\n",
       "      <td>2007-05-01</td>\n",
       "      <td>84</td>\n",
       "      <td>52</td>\n",
       "      <td>68</td>\n",
       "      <td>M</td>\n",
       "      <td>51</td>\n",
       "      <td>57</td>\n",
       "      <td>-</td>\n",
       "      <td>-</td>\n",
       "      <td>0.00</td>\n",
       "      <td>29.18</td>\n",
       "      <td>29.82</td>\n",
       "      <td>2.7</td>\n",
       "      <td>25</td>\n",
       "      <td>9.6</td>\n",
       "    </tr>\n",
       "    <tr>\n",
       "      <th>2</th>\n",
       "      <td>1</td>\n",
       "      <td>2007-05-02</td>\n",
       "      <td>59</td>\n",
       "      <td>42</td>\n",
       "      <td>51</td>\n",
       "      <td>-3</td>\n",
       "      <td>42</td>\n",
       "      <td>47</td>\n",
       "      <td>0447</td>\n",
       "      <td>1850</td>\n",
       "      <td>0.00</td>\n",
       "      <td>29.38</td>\n",
       "      <td>30.09</td>\n",
       "      <td>13.0</td>\n",
       "      <td>4</td>\n",
       "      <td>13.4</td>\n",
       "    </tr>\n",
       "    <tr>\n",
       "      <th>3</th>\n",
       "      <td>2</td>\n",
       "      <td>2007-05-02</td>\n",
       "      <td>60</td>\n",
       "      <td>43</td>\n",
       "      <td>52</td>\n",
       "      <td>M</td>\n",
       "      <td>42</td>\n",
       "      <td>47</td>\n",
       "      <td>-</td>\n",
       "      <td>-</td>\n",
       "      <td>0.00</td>\n",
       "      <td>29.44</td>\n",
       "      <td>30.08</td>\n",
       "      <td>13.3</td>\n",
       "      <td>2</td>\n",
       "      <td>13.4</td>\n",
       "    </tr>\n",
       "    <tr>\n",
       "      <th>4</th>\n",
       "      <td>1</td>\n",
       "      <td>2007-05-03</td>\n",
       "      <td>66</td>\n",
       "      <td>46</td>\n",
       "      <td>56</td>\n",
       "      <td>2</td>\n",
       "      <td>40</td>\n",
       "      <td>48</td>\n",
       "      <td>0446</td>\n",
       "      <td>1851</td>\n",
       "      <td>0.00</td>\n",
       "      <td>29.39</td>\n",
       "      <td>30.12</td>\n",
       "      <td>11.7</td>\n",
       "      <td>7</td>\n",
       "      <td>11.9</td>\n",
       "    </tr>\n",
       "  </tbody>\n",
       "</table>\n",
       "</div>"
      ],
      "text/plain": [
       "   Station        Date  Tmax  Tmin Tavg Depart  DewPoint WetBulb Sunrise  \\\n",
       "0        1  2007-05-01    83    50   67     14        51      56    0448   \n",
       "1        2  2007-05-01    84    52   68      M        51      57       -   \n",
       "2        1  2007-05-02    59    42   51     -3        42      47    0447   \n",
       "3        2  2007-05-02    60    43   52      M        42      47       -   \n",
       "4        1  2007-05-03    66    46   56      2        40      48    0446   \n",
       "\n",
       "  Sunset PrecipTotal StnPressure SeaLevel  ResultSpeed  ResultDir AvgSpeed  \n",
       "0   1849        0.00       29.10    29.82          1.7         27      9.2  \n",
       "1      -        0.00       29.18    29.82          2.7         25      9.6  \n",
       "2   1850        0.00       29.38    30.09         13.0          4     13.4  \n",
       "3      -        0.00       29.44    30.08         13.3          2     13.4  \n",
       "4   1851        0.00       29.39    30.12         11.7          7     11.9  "
      ]
     },
     "execution_count": 4,
     "metadata": {},
     "output_type": "execute_result"
    }
   ],
   "source": [
    "weather.head()"
   ]
  },
  {
   "cell_type": "code",
   "execution_count": 5,
   "metadata": {},
   "outputs": [],
   "source": [
    "for i in range(len(weather)): #for each row in weather\n",
    "    if i != 0:\n",
    "        if weather.loc[i, 'Date'] == weather.loc[i-1, 'Date']: # if the date is the same as the previou value\n",
    "            for col in weather.columns:\n",
    "                if col in ['Station', 'Date']: #skip these columns\n",
    "                    continue\n",
    "                elif col in ['Depart', 'Sunrise', 'Sunset']:\n",
    "                    weather.loc[i, col] = weather.loc[i-1, col] # keep the 'Depart' value from station 1\n",
    "                elif weather.loc[i, col] == 'M':\n",
    "                    weather.loc[i, col] = weather.loc[i-1, col] # if the value is missing, take it from station 1\n",
    "                elif weather.loc[i-1, col] == 'M':\n",
    "                    weather.loc[i-1, col] = weather.loc[i, col] # make sure no 'M's are called from station 1\n",
    "                else:\n",
    "                    weather.loc[i, col] =  (float(weather.loc[i, col]) + float(weather.loc[i-1, col]))/2 # average the data from the two stations\n",
    "            weather.drop(index=(i-1), inplace=True) # drop previous row\n",
    "weather.drop(axis=1, columns = 'Station', inplace=True)"
   ]
  },
  {
   "cell_type": "code",
   "execution_count": 6,
   "metadata": {},
   "outputs": [],
   "source": [
    "# convert 'Date' to datetime object\n",
    "weather['Date'] = weather['Date'].apply(pd.to_datetime, errors='coerce')\n",
    "\n",
    "# turn object columns into numeric datatypes\n",
    "obj_cols = ['WetBulb', 'SeaLevel', 'Tavg', 'AvgSpeed', 'PrecipTotal', 'Depart', 'StnPressure', 'Sunset', 'Sunrise'] \n",
    "weather[obj_cols] = weather[obj_cols].apply(pd.to_numeric, errors='coerce', axis=0)"
   ]
  },
  {
   "cell_type": "code",
   "execution_count": 7,
   "metadata": {},
   "outputs": [
    {
     "name": "stdout",
     "output_type": "stream",
     "text": [
      "<class 'pandas.core.frame.DataFrame'>\n",
      "Int64Index: 1472 entries, 1 to 2943\n",
      "Data columns (total 15 columns):\n",
      "Date           1472 non-null datetime64[ns]\n",
      "Tmax           1472 non-null float64\n",
      "Tmin           1472 non-null float64\n",
      "Tavg           1472 non-null float64\n",
      "Depart         1472 non-null int64\n",
      "DewPoint       1472 non-null float64\n",
      "WetBulb        1472 non-null float64\n",
      "Sunrise        1472 non-null int64\n",
      "Sunset         1472 non-null int64\n",
      "PrecipTotal    1472 non-null float64\n",
      "StnPressure    1471 non-null float64\n",
      "SeaLevel       1472 non-null float64\n",
      "ResultSpeed    1472 non-null float64\n",
      "ResultDir      1472 non-null float64\n",
      "AvgSpeed       1472 non-null float64\n",
      "dtypes: datetime64[ns](1), float64(11), int64(3)\n",
      "memory usage: 184.0 KB\n"
     ]
    }
   ],
   "source": [
    "weather.info()"
   ]
  },
  {
   "cell_type": "markdown",
   "metadata": {},
   "source": [
    "# Engineering Weather Features:"
   ]
  },
  {
   "cell_type": "markdown",
   "metadata": {},
   "source": [
    "### Calculate Day Length:"
   ]
  },
  {
   "cell_type": "code",
   "execution_count": 8,
   "metadata": {},
   "outputs": [
    {
     "data": {
      "text/html": [
       "<div>\n",
       "<style scoped>\n",
       "    .dataframe tbody tr th:only-of-type {\n",
       "        vertical-align: middle;\n",
       "    }\n",
       "\n",
       "    .dataframe tbody tr th {\n",
       "        vertical-align: top;\n",
       "    }\n",
       "\n",
       "    .dataframe thead th {\n",
       "        text-align: right;\n",
       "    }\n",
       "</style>\n",
       "<table border=\"1\" class=\"dataframe\">\n",
       "  <thead>\n",
       "    <tr style=\"text-align: right;\">\n",
       "      <th></th>\n",
       "      <th>Date</th>\n",
       "      <th>Tmax</th>\n",
       "      <th>Tmin</th>\n",
       "      <th>Tavg</th>\n",
       "      <th>Depart</th>\n",
       "      <th>DewPoint</th>\n",
       "      <th>WetBulb</th>\n",
       "      <th>Sunrise</th>\n",
       "      <th>Sunset</th>\n",
       "      <th>PrecipTotal</th>\n",
       "      <th>StnPressure</th>\n",
       "      <th>SeaLevel</th>\n",
       "      <th>ResultSpeed</th>\n",
       "      <th>ResultDir</th>\n",
       "      <th>AvgSpeed</th>\n",
       "      <th>daylength</th>\n",
       "    </tr>\n",
       "  </thead>\n",
       "  <tbody>\n",
       "    <tr>\n",
       "      <th>1</th>\n",
       "      <td>2007-05-01</td>\n",
       "      <td>83.5</td>\n",
       "      <td>51.0</td>\n",
       "      <td>67.5</td>\n",
       "      <td>14</td>\n",
       "      <td>51.0</td>\n",
       "      <td>56.5</td>\n",
       "      <td>448</td>\n",
       "      <td>1849</td>\n",
       "      <td>0.0000</td>\n",
       "      <td>29.140</td>\n",
       "      <td>29.820</td>\n",
       "      <td>2.20</td>\n",
       "      <td>26.0</td>\n",
       "      <td>9.40</td>\n",
       "      <td>1401</td>\n",
       "    </tr>\n",
       "    <tr>\n",
       "      <th>3</th>\n",
       "      <td>2007-05-02</td>\n",
       "      <td>59.5</td>\n",
       "      <td>42.5</td>\n",
       "      <td>51.5</td>\n",
       "      <td>-3</td>\n",
       "      <td>42.0</td>\n",
       "      <td>47.0</td>\n",
       "      <td>447</td>\n",
       "      <td>1850</td>\n",
       "      <td>0.0000</td>\n",
       "      <td>29.410</td>\n",
       "      <td>30.085</td>\n",
       "      <td>13.15</td>\n",
       "      <td>3.0</td>\n",
       "      <td>13.40</td>\n",
       "      <td>1403</td>\n",
       "    </tr>\n",
       "    <tr>\n",
       "      <th>5</th>\n",
       "      <td>2007-05-03</td>\n",
       "      <td>66.5</td>\n",
       "      <td>47.0</td>\n",
       "      <td>57.0</td>\n",
       "      <td>2</td>\n",
       "      <td>40.0</td>\n",
       "      <td>49.0</td>\n",
       "      <td>446</td>\n",
       "      <td>1851</td>\n",
       "      <td>0.0000</td>\n",
       "      <td>29.425</td>\n",
       "      <td>30.120</td>\n",
       "      <td>12.30</td>\n",
       "      <td>6.5</td>\n",
       "      <td>12.55</td>\n",
       "      <td>1405</td>\n",
       "    </tr>\n",
       "    <tr>\n",
       "      <th>7</th>\n",
       "      <td>2007-05-04</td>\n",
       "      <td>72.0</td>\n",
       "      <td>50.0</td>\n",
       "      <td>58.0</td>\n",
       "      <td>4</td>\n",
       "      <td>41.5</td>\n",
       "      <td>50.0</td>\n",
       "      <td>444</td>\n",
       "      <td>1852</td>\n",
       "      <td>0.0025</td>\n",
       "      <td>29.335</td>\n",
       "      <td>30.045</td>\n",
       "      <td>10.25</td>\n",
       "      <td>7.5</td>\n",
       "      <td>10.60</td>\n",
       "      <td>1408</td>\n",
       "    </tr>\n",
       "    <tr>\n",
       "      <th>9</th>\n",
       "      <td>2007-05-05</td>\n",
       "      <td>66.0</td>\n",
       "      <td>53.5</td>\n",
       "      <td>60.0</td>\n",
       "      <td>5</td>\n",
       "      <td>38.5</td>\n",
       "      <td>49.5</td>\n",
       "      <td>443</td>\n",
       "      <td>1853</td>\n",
       "      <td>0.0050</td>\n",
       "      <td>29.430</td>\n",
       "      <td>30.095</td>\n",
       "      <td>11.45</td>\n",
       "      <td>7.0</td>\n",
       "      <td>11.75</td>\n",
       "      <td>1410</td>\n",
       "    </tr>\n",
       "  </tbody>\n",
       "</table>\n",
       "</div>"
      ],
      "text/plain": [
       "        Date  Tmax  Tmin  Tavg  Depart  DewPoint  WetBulb  Sunrise  Sunset  \\\n",
       "1 2007-05-01  83.5  51.0  67.5      14      51.0     56.5      448    1849   \n",
       "3 2007-05-02  59.5  42.5  51.5      -3      42.0     47.0      447    1850   \n",
       "5 2007-05-03  66.5  47.0  57.0       2      40.0     49.0      446    1851   \n",
       "7 2007-05-04  72.0  50.0  58.0       4      41.5     50.0      444    1852   \n",
       "9 2007-05-05  66.0  53.5  60.0       5      38.5     49.5      443    1853   \n",
       "\n",
       "   PrecipTotal  StnPressure  SeaLevel  ResultSpeed  ResultDir  AvgSpeed  \\\n",
       "1       0.0000       29.140    29.820         2.20       26.0      9.40   \n",
       "3       0.0000       29.410    30.085        13.15        3.0     13.40   \n",
       "5       0.0000       29.425    30.120        12.30        6.5     12.55   \n",
       "7       0.0025       29.335    30.045        10.25        7.5     10.60   \n",
       "9       0.0050       29.430    30.095        11.45        7.0     11.75   \n",
       "\n",
       "   daylength  \n",
       "1       1401  \n",
       "3       1403  \n",
       "5       1405  \n",
       "7       1408  \n",
       "9       1410  "
      ]
     },
     "execution_count": 8,
     "metadata": {},
     "output_type": "execute_result"
    }
   ],
   "source": [
    "weather['daylength'] = weather['Sunset'] - weather['Sunrise']\n",
    "weather.head()"
   ]
  },
  {
   "cell_type": "markdown",
   "metadata": {},
   "source": [
    "### Rolling Averages:"
   ]
  },
  {
   "cell_type": "code",
   "execution_count": 9,
   "metadata": {},
   "outputs": [],
   "source": [
    "# make a running total of precipitation over the past X days_back\n",
    "days_back_precip = 15\n",
    "\n",
    "# create the running_PrecipTotal column\n",
    "weather['running_PrecipTotal'] = weather['PrecipTotal'].rolling(window = days_back_precip).mean()\n",
    "weather['running_PrecipTotal'].fillna(value=0, inplace=True)\n",
    "\n",
    "# create the running_PrecipTotal column\n",
    "days_back_Tavg = 3\n",
    "\n",
    "weather['running_Tavg'] = weather['Tavg'].rolling(window = days_back_Tavg).mean()\n",
    "weather['running_Tavg'].fillna(value=60, inplace=True)\n",
    "\n",
    "# AvgSpeed\n",
    "days_back_AvgSpeed = 3\n",
    "\n",
    "weather['running_AvgSpeed'] = weather['AvgSpeed'].rolling(window = days_back_AvgSpeed).mean()\n",
    "weather['running_AvgSpeed'].fillna(value=10, inplace=True)"
   ]
  },
  {
   "cell_type": "markdown",
   "metadata": {},
   "source": [
    "### Combine same-day trap rows into a single day:"
   ]
  },
  {
   "cell_type": "code",
   "execution_count": 10,
   "metadata": {},
   "outputs": [],
   "source": [
    "# create a new column for each species to prepare it for the loops below\n",
    "\n",
    "species = list(train.Species.unique())\n",
    "for df in [train]: #, test]:\n",
    "    for species_type in species:\n",
    "        df[species_type] = 0"
   ]
  },
  {
   "cell_type": "code",
   "execution_count": 11,
   "metadata": {},
   "outputs": [],
   "source": [
    "#################################################################################\n",
    "# Combine the same-day trap rows\n",
    "#     if this is sorted by date and trap then it will iterate in the right order\n",
    "#################################################################################\n",
    "\n",
    "for i in range(len(train)):\n",
    "    if i != 0:\n",
    "        if (train.loc[i,'Date'] == train.loc[i-1,'Date']) & (train.loc[i,'Trap'] == train.loc[i-1,'Trap']): # conditions for when the previous row has the same date and time value\n",
    "            col = train.loc[i,'Species']\n",
    "            train.loc[i, col] = train.loc[i-1, col] + train.loc[i, 'NumMosquitos'] # put the number of mosquitos in the right species column\n",
    "            for _ in species:\n",
    "                if _ != col:\n",
    "                    train.loc[i, _] = train.loc[i, _] + train.loc[i-1, _] # keep track of the other species counts\n",
    "            if train.loc[i-1, 'WnvPresent'] == 1:\n",
    "                train.loc[i, 'WnvPresent'] = 1    # Keep track of if Wnv is present\n",
    "            train.drop(index=(i-1), inplace=True)   # drop previous duplicate row now that its info is copied\n",
    "        else:\n",
    "            col = train.loc[i,'Species']\n",
    "            train.loc[i, col] = train.loc[i, col] + train.loc[i, 'NumMosquitos'] # keep track of species counts\n",
    "    else: #this should only apply to row_index = 0, it avoids an error from looking back past the first observation\n",
    "        col = train.loc[i,'Species']\n",
    "        train.loc[i, col] += train.loc[i, 'NumMosquitos']\n",
    "train.reset_index(inplace= True)"
   ]
  },
  {
   "cell_type": "code",
   "execution_count": 12,
   "metadata": {},
   "outputs": [],
   "source": [
    "# calculate total mosquitos in each trap\n",
    "train['total_mos'] = train[species].sum(axis=1) \n",
    "\n",
    "# drop species and nummos\n",
    "train.drop(columns = ['Species', 'NumMosquitos'], inplace = True)"
   ]
  },
  {
   "cell_type": "code",
   "execution_count": 13,
   "metadata": {},
   "outputs": [],
   "source": [
    "# Assigning to a week of the year\n",
    "\n",
    "train['Date'] = pd.to_datetime(train['Date'])\n",
    "train['week_no'] = [x.isocalendar()[1] for x in train['Date']]\n",
    "train['peak_season_diff'] = (train['week_no'] - 31) # number of weeks from peak wnv season (week 31)\n",
    "\n",
    "test['Date'] = pd.to_datetime(test['Date'])\n",
    "test['week_no'] = [x.isocalendar()[1] for x in test['Date']]\n",
    "test['peak_season_diff'] = (test['week_no'] - 31) # number of weeks from peak wnv season (week 31)"
   ]
  },
  {
   "cell_type": "code",
   "execution_count": 14,
   "metadata": {},
   "outputs": [],
   "source": [
    "# weight weeks according to mosq pop\n",
    "grand_total_mosq = train['total_mos'].sum()\n",
    "\n",
    "for x in train['week_no'].unique():\n",
    "    week_no_pop = train.loc[(train['week_no'] == x), 'total_mos'].sum()\n",
    "    train.loc[train['week_no'] == x, 'weighted_week_no'] = week_no_pop/grand_total_mosq *100\n",
    "    test.loc[test['week_no'] == x, 'weighted_week_no'] = week_no_pop/grand_total_mosq *100"
   ]
  },
  {
   "cell_type": "markdown",
   "metadata": {},
   "source": [
    "# Location weighting"
   ]
  },
  {
   "cell_type": "code",
   "execution_count": 15,
   "metadata": {},
   "outputs": [],
   "source": [
    "# Make \"trap weight\" feature. If traps have high frequency of WNV, weight them higher."
   ]
  },
  {
   "cell_type": "code",
   "execution_count": 16,
   "metadata": {
    "scrolled": false
   },
   "outputs": [],
   "source": [
    "# Out of number of reports for trap, what % is WNV present?\n",
    "for x in train['Trap'].unique():\n",
    "    num_reports = len(train.loc[train['Trap'] == x])\n",
    "    num_wnv = len(train.loc[(train['Trap'] == x) & (train['WnvPresent'] == 1)])\n",
    "    train.loc[train['Trap'] == x, 'trap_weight'] = num_wnv/num_reports\n",
    "    test.loc[test['Trap'] == x, 'trap_weight'] = num_wnv/num_reports"
   ]
  },
  {
   "cell_type": "code",
   "execution_count": 17,
   "metadata": {},
   "outputs": [
    {
     "data": {
      "text/plain": [
       "0.08517279629900337"
      ]
     },
     "execution_count": 17,
     "metadata": {},
     "output_type": "execute_result"
    }
   ],
   "source": [
    "# Percentage of nulls in test set.\n",
    "test.isnull().sum()['trap_weight'] / len(test)"
   ]
  },
  {
   "cell_type": "code",
   "execution_count": 18,
   "metadata": {},
   "outputs": [],
   "source": [
    "# Fills test NaNs with train avg.\n",
    "test.fillna(train['trap_weight'].mean(), inplace=True)"
   ]
  },
  {
   "cell_type": "markdown",
   "metadata": {},
   "source": [
    "<hr>\n",
    "# Clustering"
   ]
  },
  {
   "cell_type": "code",
   "execution_count": 19,
   "metadata": {},
   "outputs": [
    {
     "name": "stderr",
     "output_type": "stream",
     "text": [
      "/Users/zachgreen/anaconda3/lib/python3.6/site-packages/ipykernel_launcher.py:8: SettingWithCopyWarning: \n",
      "A value is trying to be set on a copy of a slice from a DataFrame.\n",
      "Try using .loc[row_indexer,col_indexer] = value instead\n",
      "\n",
      "See the caveats in the documentation: http://pandas.pydata.org/pandas-docs/stable/indexing.html#indexing-view-versus-copy\n",
      "  \n",
      "/Users/zachgreen/anaconda3/lib/python3.6/site-packages/ipykernel_launcher.py:15: SettingWithCopyWarning: \n",
      "A value is trying to be set on a copy of a slice from a DataFrame.\n",
      "Try using .loc[row_indexer,col_indexer] = value instead\n",
      "\n",
      "See the caveats in the documentation: http://pandas.pydata.org/pandas-docs/stable/indexing.html#indexing-view-versus-copy\n",
      "  from ipykernel import kernelapp as app\n",
      "/Users/zachgreen/anaconda3/lib/python3.6/site-packages/ipykernel_launcher.py:21: SettingWithCopyWarning: \n",
      "A value is trying to be set on a copy of a slice from a DataFrame.\n",
      "Try using .loc[row_indexer,col_indexer] = value instead\n",
      "\n",
      "See the caveats in the documentation: http://pandas.pydata.org/pandas-docs/stable/indexing.html#indexing-view-versus-copy\n"
     ]
    }
   ],
   "source": [
    "X = train[['Latitude', 'Longitude', 'trap_weight']]\n",
    "\n",
    "n_clusters = 10\n",
    "\n",
    "kmeans = KMeans(n_clusters=n_clusters)\n",
    "kmeans.fit(X)\n",
    "    \n",
    "X['kmeans_label'] = kmeans.labels_\n",
    "train['kmeans_label'] = kmeans.labels_\n",
    "\n",
    "\n",
    "dbs = DBSCAN(eps=0.15, min_samples=7) \n",
    "dbs.fit(X)\n",
    "    \n",
    "X['dbs_label'] = dbs.labels_\n",
    "train['dbs_label'] = dbs.labels_\n",
    "\n",
    "agg = AgglomerativeClustering(n_clusters=n_clusters)\n",
    "agg.fit(X)\n",
    "    \n",
    "X['agg_label'] = agg.labels_\n",
    "train['agg_label'] = agg.labels_"
   ]
  },
  {
   "cell_type": "code",
   "execution_count": 20,
   "metadata": {},
   "outputs": [],
   "source": [
    "for x in train['Trap'].unique():\n",
    "    test.loc[test['Trap'] == x, 'kmeans_label'] = train.loc[train['Trap'] == x, 'kmeans_label'].mean()\n",
    "    test.loc[test['Trap'] == x, 'dbs_label'] = train.loc[train['Trap'] == x, 'dbs_label'].mean()\n",
    "    test.loc[test['Trap'] == x, 'agg_label'] = train.loc[train['Trap'] == x, 'agg_label'].mean()"
   ]
  },
  {
   "cell_type": "code",
   "execution_count": 21,
   "metadata": {},
   "outputs": [
    {
     "data": {
      "text/plain": [
       "Id                           0\n",
       "Date                         0\n",
       "Address                      0\n",
       "Species                      0\n",
       "Block                        0\n",
       "Street                       0\n",
       "Trap                         0\n",
       "AddressNumberAndStreet       0\n",
       "Latitude                     0\n",
       "Longitude                    0\n",
       "AddressAccuracy              0\n",
       "week_no                      0\n",
       "peak_season_diff             0\n",
       "weighted_week_no             0\n",
       "trap_weight                  0\n",
       "kmeans_label              9905\n",
       "dbs_label                 9905\n",
       "agg_label                 9905\n",
       "dtype: int64"
      ]
     },
     "execution_count": 21,
     "metadata": {},
     "output_type": "execute_result"
    }
   ],
   "source": [
    "test.isnull().sum()"
   ]
  },
  {
   "cell_type": "code",
   "execution_count": 22,
   "metadata": {},
   "outputs": [],
   "source": [
    "test.fillna(0, inplace=True)"
   ]
  },
  {
   "cell_type": "markdown",
   "metadata": {},
   "source": [
    "# Combine Weather with Train and Test Sets"
   ]
  },
  {
   "cell_type": "code",
   "execution_count": 23,
   "metadata": {},
   "outputs": [],
   "source": [
    "# make a list of the weather features and remove 'Date'\n",
    "weather_feat = list(weather.columns)\n",
    "weather_feat.remove('Date')"
   ]
  },
  {
   "cell_type": "code",
   "execution_count": 24,
   "metadata": {},
   "outputs": [],
   "source": [
    "for df in [train, test]:\n",
    "    for thing in weather_feat:\n",
    "        df[thing] = 0"
   ]
  },
  {
   "cell_type": "code",
   "execution_count": 25,
   "metadata": {},
   "outputs": [],
   "source": [
    "for _ in train['Date'].unique():  \n",
    "    for x in weather.columns[1:]:        \n",
    "        train.loc[train['Date'] == _, x] = weather.loc[weather['Date'] == _, x].values[0]\n",
    "        \n",
    "for _ in test['Date'].unique():  \n",
    "    for x in weather.columns[1:]:        \n",
    "        test.loc[test['Date'] == _, x] = weather.loc[weather['Date'] == _, x].values[0]"
   ]
  },
  {
   "cell_type": "markdown",
   "metadata": {},
   "source": [
    "# Interaction Effects:"
   ]
  },
  {
   "cell_type": "code",
   "execution_count": 26,
   "metadata": {},
   "outputs": [],
   "source": [
    "# time from peak season vs precipitation running average\n",
    "train['peak_season_diff_vs_running_Precip'] = train['peak_season_diff'] * train['running_PrecipTotal']\n",
    "test['peak_season_diff_vs_running_Precip'] = test['peak_season_diff'] * test['running_PrecipTotal']\n",
    "\n",
    "# time from peak season vs temp running average\n",
    "train['peak_season_diff_vs_running_Tavg'] = train['peak_season_diff'] * train['running_Tavg']\n",
    "test['peak_season_diff_vs_running_Tavg'] = test['peak_season_diff'] * test['running_Tavg']\n",
    "\n",
    "# time from peak season vs wind running average\n",
    "train['peak_season_diff_vs_running_AvgSpeed'] = train['peak_season_diff'] * train['running_AvgSpeed']\n",
    "test['peak_season_diff_vs_running_AvgSpeed'] = test['peak_season_diff'] * test['running_AvgSpeed']"
   ]
  },
  {
   "cell_type": "markdown",
   "metadata": {},
   "source": [
    "<hr>"
   ]
  },
  {
   "cell_type": "markdown",
   "metadata": {},
   "source": [
    "# Undersampling"
   ]
  },
  {
   "cell_type": "code",
   "execution_count": 27,
   "metadata": {
    "scrolled": true
   },
   "outputs": [],
   "source": [
    "### Undersampling (from http://blog.madhukaraphatak.com/class-imbalance-part-2/)\n",
    "\n",
    "# Number of wnv cases\n",
    "wnv = len(train[train['WnvPresent'] == 1])\n",
    "\n",
    "# non-wnv indexes\n",
    "nonwnv_index = train[train['WnvPresent'] == 0].index\n",
    "\n",
    "# random index\n",
    "rando_index = np.random.choice(nonwnv_index, wnv*2, replace=False) # Change the coef of wmv to change class balance\n",
    "\n",
    "# wnv index\n",
    "wnv_index = train[train['WnvPresent'] == 1].index\n",
    "\n",
    "# undersample\n",
    "undersample = np.concatenate([rando_index, wnv_index])\n",
    "undersample = train.loc[undersample]"
   ]
  },
  {
   "cell_type": "code",
   "execution_count": 28,
   "metadata": {},
   "outputs": [
    {
     "data": {
      "text/plain": [
       "0    770\n",
       "1    385\n",
       "Name: WnvPresent, dtype: int64"
      ]
     },
     "execution_count": 28,
     "metadata": {},
     "output_type": "execute_result"
    }
   ],
   "source": [
    "# Class balance\n",
    "undersample['WnvPresent'].value_counts()"
   ]
  },
  {
   "cell_type": "markdown",
   "metadata": {},
   "source": [
    "<hr>"
   ]
  },
  {
   "cell_type": "markdown",
   "metadata": {},
   "source": [
    "# Feature selection"
   ]
  },
  {
   "cell_type": "code",
   "execution_count": 29,
   "metadata": {},
   "outputs": [],
   "source": [
    "# Select features\n",
    "\n",
    "# categorical vars\n",
    "cat = ['agg_label']\n",
    "\n",
    "feat = ['Tavg', 'PrecipTotal', 'trap_weight', 'WetBulb', 'daylength',\n",
    "        'AvgSpeed',  'StnPressure', 'peak_season_diff',\n",
    "        'running_PrecipTotal', 'running_Tavg', 'running_AvgSpeed', #running weather averages \n",
    "        'peak_season_diff_vs_running_Precip', 'peak_season_diff_vs_running_Tavg', 'peak_season_diff_vs_running_AvgSpeed', # interaction effects\n",
    "       ]"
   ]
  },
  {
   "cell_type": "markdown",
   "metadata": {},
   "source": [
    "<hr>"
   ]
  },
  {
   "cell_type": "markdown",
   "metadata": {},
   "source": [
    "### Makes get_dummies for addresses, scales continuous, and concatenates."
   ]
  },
  {
   "cell_type": "code",
   "execution_count": 30,
   "metadata": {},
   "outputs": [],
   "source": [
    "### Get dummies for addresses, scale continuous features, concatenate.\n",
    "\n",
    "### Train ###\n",
    "\n",
    "address_dummies = pd.get_dummies(undersample['AddressNumberAndStreet'])\n",
    "\n",
    "# Scaling\n",
    "ss = StandardScaler()\n",
    "scaled = ss.fit_transform(undersample[feat])\n",
    "scaled = pd.DataFrame(scaled, index=undersample.index, columns=undersample[feat].columns)\n",
    "\n",
    "# Concat\n",
    "train_scaled = pd.concat([scaled, address_dummies, undersample[cat]], axis=1)\n",
    "\n",
    "\n",
    "### Test ###\n",
    "\n",
    "address_dummies = pd.get_dummies(test['AddressNumberAndStreet'])\n",
    "\n",
    "# Scaling\n",
    "ss = StandardScaler()\n",
    "test_scaled = ss.fit_transform(test[feat])\n",
    "test_scaled = pd.DataFrame(test_scaled, index=test.index, columns=test[feat].columns)\n",
    "\n",
    "# Concat\n",
    "test_scaled = pd.concat([test_scaled, address_dummies, test[cat]], axis=1)"
   ]
  },
  {
   "cell_type": "markdown",
   "metadata": {},
   "source": [
    "### Checks columns for features in test NOT in train"
   ]
  },
  {
   "cell_type": "code",
   "execution_count": 31,
   "metadata": {},
   "outputs": [
    {
     "name": "stdout",
     "output_type": "stream",
     "text": [
      "['1000  S OGLESBY AVE, Chicago, IL', '1100  S LOOMIS ST, Chicago, IL', '1200  S BALTIMORE AVE, Chicago, IL', '1200  W 120TH ST, Chicago, IL', '1400  W 112TH ST, Chicago, IL', '2100  S HAMLIN AVE, Chicago, IL', '2600  E 136TH ST, Chicago, IL', '2900  N KENNETH AVE, Chicago, IL', '2900  W 85TH ST, Chicago, IL', '3400  N LONG AVE, Chicago, IL', '3700  N KILBOURN AVE, Chicago, IL', '4000  N KEDVALE AVE, Chicago, IL', '4600  N MELVINA AVE, Chicago, IL', '5100  W 63RD PL, Chicago, IL', '6500  W DAKIN ST, Chicago, IL', '8000  S KEDZIE AVE, Chicago, IL']\n"
     ]
    }
   ],
   "source": [
    "# for pf\n",
    "\n",
    "# Check for columns in test not in train.\n",
    "no_addresses = [x for x in test_scaled.columns if x not in train_scaled.columns]\n",
    "\n",
    "### Print all addresses in test not in train set. ###\n",
    "print(no_addresses)\n",
    "\n",
    "# Dataset with unincluded addresses omitted.\n",
    "test_no_addresses = test_scaled.drop(no_addresses, axis=1)"
   ]
  },
  {
   "cell_type": "markdown",
   "metadata": {},
   "source": [
    "# Train Test Split"
   ]
  },
  {
   "cell_type": "code",
   "execution_count": 32,
   "metadata": {},
   "outputs": [],
   "source": [
    "# # tts for pf\n",
    "X_train, X_test, y_train, y_test = train_test_split(train_scaled, undersample['WnvPresent'], stratify=undersample['WnvPresent'])"
   ]
  },
  {
   "cell_type": "markdown",
   "metadata": {},
   "source": [
    "# Modeling Function:\n",
    "This function fits the model passed in and gridsearches over the specified parameters <br>\n",
    "\n",
    "### It prints out:\n",
    "The model results. <br> \n",
    "Best performing parameters for examination.<br>\n",
    "ROC Curve.\n",
    "\n",
    "### Returns: \n",
    "The updated overall results dataframe. <br>\n",
    "The best parameters dataframe. <br>\n",
    "The best fitted model. <br>"
   ]
  },
  {
   "cell_type": "code",
   "execution_count": 33,
   "metadata": {},
   "outputs": [],
   "source": [
    "# instantiating dataframes that will be used to store results and parameters of models tested\n",
    "index_labels = ['Test score','Train score', 'Sensitivity', 'Specificity', 'Precision']\n",
    "all_results = pd.DataFrame(index=index_labels)\n",
    "all_params = pd.DataFrame(columns = ['Parameters'])\n",
    "\n",
    "# set dataframe options to display long strings rather than truncating them\n",
    "#     so that you can see all the parameters used\n",
    "pd.set_option('display.max_colwidth', 10000)"
   ]
  },
  {
   "cell_type": "code",
   "execution_count": 34,
   "metadata": {},
   "outputs": [],
   "source": [
    "def fit_model(model, model_name, params, all_results, all_params):\n",
    "    start_time = time.time() # this is to keep a tab on how long it takes this function to run\n",
    "    \n",
    "##################################################################################################\n",
    "# This function fits the model passed in and gridsearches over the specified parameters\n",
    "#     it then displays the results and best parameters \n",
    "#         and adds them to two dataframes that store results and parameters of all previous models\n",
    "# \n",
    "# Returns: the overall results dataframe, the best parameters dataframe, and the best fitted model\n",
    "##################################################################################################\n",
    "\n",
    "    # fit\n",
    "    model = GridSearchCV(model, params, n_jobs=-1, cv = 3)\n",
    "    model.fit(X_train, y_train)\n",
    "    \n",
    "    # pick out the best model\n",
    "    best_model = model.best_estimator_\n",
    "    \n",
    "    # make predictions\n",
    "    pred = best_model.predict(X_test)\n",
    "    \n",
    "    # make the confusion matrix\n",
    "    pred = best_model.predict(X_test)\n",
    "    tn, fp, fn, tp = confusion_matrix(y_test, pred).ravel()\n",
    "    \n",
    "    # Calculate Scores and put them in results dataframe\n",
    "    index_labels = ['Test score', 'Train score', 'Sensitivity', 'Specificity', 'Precision']\n",
    "    result = pd.DataFrame(index = index_labels, columns=[model_name])\n",
    "    result.loc['Test score'][model_name] = round(best_model.score(X_test, y_test), 3)\n",
    "    result.loc['Train score'][model_name] = round(model.best_score_, 3)\n",
    "    result.loc['Sensitivity'][model_name] = round(tp/(tp+fn), 3)\n",
    "    result.loc['Specificity'][model_name] = round(tn/(tn+fp), 3)\n",
    "    result.loc['Precision'][model_name] = round(tp/(tp+fp), 3)\n",
    "    display(result)\n",
    "    \n",
    "    # add results and params to all_results and all_params\n",
    "    all_results = pd.concat([all_results, result], axis=1)\n",
    "    result_series = pd.Series({'Parameters' : model.best_params_}, name=model_name)\n",
    "    all_params = all_params.append(result_series)\n",
    "    display(all_params.loc[[model_name]])\n",
    "    \n",
    "    # Create the confusion matrix dataframe\n",
    "    total = (tp + tn + fp + fn)\n",
    "    confusion = pd.DataFrame(index= ['Pred. Positive','Pred. Negative', 'Total'])\n",
    "    confusion['Act. Positive'] = str(round(tp/total*100, 1))+'%', str(round(fn/total*100, 1))+'%', (tp + fn)\n",
    "    confusion['Act. Negative'] = str(round(fp/total*100, 1))+'%', str(round(tn/total*100, 1))+'%', (fp + tn)\n",
    "    confusion['Total'] = (tp + fp), (fn + tn), total\n",
    "    display(confusion)\n",
    "    \n",
    "# ROC-AUC curve\n",
    "    # make predicted probabilities to be returned for use in the ROC Curve\n",
    "    y_hat_proba = best_model.predict_proba(X_test)\n",
    "\n",
    "    # Generate False positive rate and True positive rate\n",
    "    fpr, tpr, _ = roc_curve(y_test, y_hat_proba[:,1])\n",
    "    roc_auc = auc(fpr, tpr)\n",
    "\n",
    "    # Plot \n",
    "    plt.figure(figsize=(6, 4))\n",
    "    line_width = 4\n",
    "    plt.title('ROC Curve', fontsize=25, position = (0.2,1))\n",
    "    plt.ylabel('TPR')\n",
    "    plt.xlabel('FPR')\n",
    "    plt.grid(True)\n",
    "    plt.plot(fpr, tpr, lw = line_width)\n",
    "    plt.plot([0, 1], [0,1], lw = line_width, linestyle = '--')\n",
    "    plt.show()\n",
    "    \n",
    "    print('ROC AUC Score: ', roc_auc)\n",
    "    \n",
    "    # print the runtime\n",
    "    end_time = time.time()\n",
    "    print('Runtime: ', round((end_time - start_time)/60, 3), ' minutes')\n",
    "    return all_results, all_params, best_model"
   ]
  },
  {
   "cell_type": "markdown",
   "metadata": {},
   "source": [
    "# Fit Models!"
   ]
  },
  {
   "cell_type": "markdown",
   "metadata": {},
   "source": [
    "### Logisitic Regression:"
   ]
  },
  {
   "cell_type": "code",
   "execution_count": 35,
   "metadata": {
    "scrolled": true
   },
   "outputs": [
    {
     "data": {
      "text/html": [
       "<div>\n",
       "<style scoped>\n",
       "    .dataframe tbody tr th:only-of-type {\n",
       "        vertical-align: middle;\n",
       "    }\n",
       "\n",
       "    .dataframe tbody tr th {\n",
       "        vertical-align: top;\n",
       "    }\n",
       "\n",
       "    .dataframe thead th {\n",
       "        text-align: right;\n",
       "    }\n",
       "</style>\n",
       "<table border=\"1\" class=\"dataframe\">\n",
       "  <thead>\n",
       "    <tr style=\"text-align: right;\">\n",
       "      <th></th>\n",
       "      <th>Log Reg</th>\n",
       "    </tr>\n",
       "  </thead>\n",
       "  <tbody>\n",
       "    <tr>\n",
       "      <th>Test score</th>\n",
       "      <td>0.713</td>\n",
       "    </tr>\n",
       "    <tr>\n",
       "      <th>Train score</th>\n",
       "      <td>0.792</td>\n",
       "    </tr>\n",
       "    <tr>\n",
       "      <th>Sensitivity</th>\n",
       "      <td>0.479</td>\n",
       "    </tr>\n",
       "    <tr>\n",
       "      <th>Specificity</th>\n",
       "      <td>0.829</td>\n",
       "    </tr>\n",
       "    <tr>\n",
       "      <th>Precision</th>\n",
       "      <td>0.582</td>\n",
       "    </tr>\n",
       "  </tbody>\n",
       "</table>\n",
       "</div>"
      ],
      "text/plain": [
       "            Log Reg\n",
       "Test score    0.713\n",
       "Train score   0.792\n",
       "Sensitivity   0.479\n",
       "Specificity   0.829\n",
       "Precision     0.582"
      ]
     },
     "metadata": {},
     "output_type": "display_data"
    },
    {
     "data": {
      "text/html": [
       "<div>\n",
       "<style scoped>\n",
       "    .dataframe tbody tr th:only-of-type {\n",
       "        vertical-align: middle;\n",
       "    }\n",
       "\n",
       "    .dataframe tbody tr th {\n",
       "        vertical-align: top;\n",
       "    }\n",
       "\n",
       "    .dataframe thead th {\n",
       "        text-align: right;\n",
       "    }\n",
       "</style>\n",
       "<table border=\"1\" class=\"dataframe\">\n",
       "  <thead>\n",
       "    <tr style=\"text-align: right;\">\n",
       "      <th></th>\n",
       "      <th>Parameters</th>\n",
       "    </tr>\n",
       "  </thead>\n",
       "  <tbody>\n",
       "    <tr>\n",
       "      <th>Log Reg</th>\n",
       "      <td>{'C': 0.33, 'penalty': 'l1', 'solver': 'liblinear', 'tol': 0.05, 'warm_start': False}</td>\n",
       "    </tr>\n",
       "  </tbody>\n",
       "</table>\n",
       "</div>"
      ],
      "text/plain": [
       "                                                                                    Parameters\n",
       "Log Reg  {'C': 0.33, 'penalty': 'l1', 'solver': 'liblinear', 'tol': 0.05, 'warm_start': False}"
      ]
     },
     "metadata": {},
     "output_type": "display_data"
    },
    {
     "data": {
      "text/html": [
       "<div>\n",
       "<style scoped>\n",
       "    .dataframe tbody tr th:only-of-type {\n",
       "        vertical-align: middle;\n",
       "    }\n",
       "\n",
       "    .dataframe tbody tr th {\n",
       "        vertical-align: top;\n",
       "    }\n",
       "\n",
       "    .dataframe thead th {\n",
       "        text-align: right;\n",
       "    }\n",
       "</style>\n",
       "<table border=\"1\" class=\"dataframe\">\n",
       "  <thead>\n",
       "    <tr style=\"text-align: right;\">\n",
       "      <th></th>\n",
       "      <th>Act. Positive</th>\n",
       "      <th>Act. Negative</th>\n",
       "      <th>Total</th>\n",
       "    </tr>\n",
       "  </thead>\n",
       "  <tbody>\n",
       "    <tr>\n",
       "      <th>Pred. Positive</th>\n",
       "      <td>15.9%</td>\n",
       "      <td>11.4%</td>\n",
       "      <td>79</td>\n",
       "    </tr>\n",
       "    <tr>\n",
       "      <th>Pred. Negative</th>\n",
       "      <td>17.3%</td>\n",
       "      <td>55.4%</td>\n",
       "      <td>210</td>\n",
       "    </tr>\n",
       "    <tr>\n",
       "      <th>Total</th>\n",
       "      <td>96</td>\n",
       "      <td>193</td>\n",
       "      <td>289</td>\n",
       "    </tr>\n",
       "  </tbody>\n",
       "</table>\n",
       "</div>"
      ],
      "text/plain": [
       "               Act. Positive Act. Negative  Total\n",
       "Pred. Positive         15.9%         11.4%     79\n",
       "Pred. Negative         17.3%         55.4%    210\n",
       "Total                     96           193    289"
      ]
     },
     "metadata": {},
     "output_type": "display_data"
    },
    {
     "data": {
      "image/png": "[encoded data removed]",
      "text/plain": [
       "<Figure size 432x288 with 1 Axes>"
      ]
     },
     "metadata": {},
     "output_type": "display_data"
    },
    {
     "name": "stdout",
     "output_type": "stream",
     "text": [
      "ROC AUC Score:  0.7837327288428325\n",
      "Runtime:  0.029  minutes\n"
     ]
    }
   ],
   "source": [
    "params = {\n",
    "    'penalty': ['l1', 'l2'],\n",
    "    'C': [.1, 0.25, .33, 0.5, .75, 1, 2, 5, 10, 15, 20],\n",
    "    'solver': ['liblinear'],\n",
    "    'warm_start' : [True, False],\n",
    "    'tol': [0.05, 0.01, 0.005]}\n",
    "\n",
    "all_results, all_params, lr_best_model = fit_model(LogisticRegression(), 'Log Reg', #(function call, 'Name to Print'\n",
    "                                                   params, all_results, all_params)\n"
   ]
  },
  {
   "cell_type": "markdown",
   "metadata": {},
   "source": [
    "### Naive Bayes:"
   ]
  },
  {
   "cell_type": "code",
   "execution_count": 36,
   "metadata": {},
   "outputs": [
    {
     "data": {
      "text/html": [
       "<div>\n",
       "<style scoped>\n",
       "    .dataframe tbody tr th:only-of-type {\n",
       "        vertical-align: middle;\n",
       "    }\n",
       "\n",
       "    .dataframe tbody tr th {\n",
       "        vertical-align: top;\n",
       "    }\n",
       "\n",
       "    .dataframe thead th {\n",
       "        text-align: right;\n",
       "    }\n",
       "</style>\n",
       "<table border=\"1\" class=\"dataframe\">\n",
       "  <thead>\n",
       "    <tr style=\"text-align: right;\">\n",
       "      <th></th>\n",
       "      <th>Berni NB</th>\n",
       "    </tr>\n",
       "  </thead>\n",
       "  <tbody>\n",
       "    <tr>\n",
       "      <th>Test score</th>\n",
       "      <td>0.692</td>\n",
       "    </tr>\n",
       "    <tr>\n",
       "      <th>Train score</th>\n",
       "      <td>0.744</td>\n",
       "    </tr>\n",
       "    <tr>\n",
       "      <th>Sensitivity</th>\n",
       "      <td>0.552</td>\n",
       "    </tr>\n",
       "    <tr>\n",
       "      <th>Specificity</th>\n",
       "      <td>0.762</td>\n",
       "    </tr>\n",
       "    <tr>\n",
       "      <th>Precision</th>\n",
       "      <td>0.535</td>\n",
       "    </tr>\n",
       "  </tbody>\n",
       "</table>\n",
       "</div>"
      ],
      "text/plain": [
       "            Berni NB\n",
       "Test score     0.692\n",
       "Train score    0.744\n",
       "Sensitivity    0.552\n",
       "Specificity    0.762\n",
       "Precision      0.535"
      ]
     },
     "metadata": {},
     "output_type": "display_data"
    },
    {
     "data": {
      "text/html": [
       "<div>\n",
       "<style scoped>\n",
       "    .dataframe tbody tr th:only-of-type {\n",
       "        vertical-align: middle;\n",
       "    }\n",
       "\n",
       "    .dataframe tbody tr th {\n",
       "        vertical-align: top;\n",
       "    }\n",
       "\n",
       "    .dataframe thead th {\n",
       "        text-align: right;\n",
       "    }\n",
       "</style>\n",
       "<table border=\"1\" class=\"dataframe\">\n",
       "  <thead>\n",
       "    <tr style=\"text-align: right;\">\n",
       "      <th></th>\n",
       "      <th>Parameters</th>\n",
       "    </tr>\n",
       "  </thead>\n",
       "  <tbody>\n",
       "    <tr>\n",
       "      <th>Berni NB</th>\n",
       "      <td>{'alpha': 10, 'fit_prior': False}</td>\n",
       "    </tr>\n",
       "  </tbody>\n",
       "</table>\n",
       "</div>"
      ],
      "text/plain": [
       "                                 Parameters\n",
       "Berni NB  {'alpha': 10, 'fit_prior': False}"
      ]
     },
     "metadata": {},
     "output_type": "display_data"
    },
    {
     "data": {
      "text/html": [
       "<div>\n",
       "<style scoped>\n",
       "    .dataframe tbody tr th:only-of-type {\n",
       "        vertical-align: middle;\n",
       "    }\n",
       "\n",
       "    .dataframe tbody tr th {\n",
       "        vertical-align: top;\n",
       "    }\n",
       "\n",
       "    .dataframe thead th {\n",
       "        text-align: right;\n",
       "    }\n",
       "</style>\n",
       "<table border=\"1\" class=\"dataframe\">\n",
       "  <thead>\n",
       "    <tr style=\"text-align: right;\">\n",
       "      <th></th>\n",
       "      <th>Act. Positive</th>\n",
       "      <th>Act. Negative</th>\n",
       "      <th>Total</th>\n",
       "    </tr>\n",
       "  </thead>\n",
       "  <tbody>\n",
       "    <tr>\n",
       "      <th>Pred. Positive</th>\n",
       "      <td>18.3%</td>\n",
       "      <td>15.9%</td>\n",
       "      <td>99</td>\n",
       "    </tr>\n",
       "    <tr>\n",
       "      <th>Pred. Negative</th>\n",
       "      <td>14.9%</td>\n",
       "      <td>50.9%</td>\n",
       "      <td>190</td>\n",
       "    </tr>\n",
       "    <tr>\n",
       "      <th>Total</th>\n",
       "      <td>96</td>\n",
       "      <td>193</td>\n",
       "      <td>289</td>\n",
       "    </tr>\n",
       "  </tbody>\n",
       "</table>\n",
       "</div>"
      ],
      "text/plain": [
       "               Act. Positive Act. Negative  Total\n",
       "Pred. Positive         18.3%         15.9%     99\n",
       "Pred. Negative         14.9%         50.9%    190\n",
       "Total                     96           193    289"
      ]
     },
     "metadata": {},
     "output_type": "display_data"
    },
    {
     "data": {
      "image/png": "[encoded data removed]",
      "text/plain": [
       "<Figure size 432x288 with 1 Axes>"
      ]
     },
     "metadata": {},
     "output_type": "display_data"
    },
    {
     "name": "stdout",
     "output_type": "stream",
     "text": [
      "ROC AUC Score:  0.7576101036269429\n",
      "Runtime:  0.011  minutes\n"
     ]
    }
   ],
   "source": [
    "# This uses BernoulliNB because we are trying to predict a binomial variable\n",
    "\n",
    "params = {\n",
    "    'fit_prior': [True, False],\n",
    "    'alpha': [0.5, 1, 2, 3, 5, 10, 15, 20]\n",
    "}\n",
    "all_results, all_params, nb_best_model = fit_model(BernoulliNB(), 'Berni NB', params, all_results, all_params)"
   ]
  },
  {
   "cell_type": "markdown",
   "metadata": {},
   "source": [
    "### SVM:"
   ]
  },
  {
   "cell_type": "code",
   "execution_count": 37,
   "metadata": {
    "scrolled": true
   },
   "outputs": [
    {
     "data": {
      "text/html": [
       "<div>\n",
       "<style scoped>\n",
       "    .dataframe tbody tr th:only-of-type {\n",
       "        vertical-align: middle;\n",
       "    }\n",
       "\n",
       "    .dataframe tbody tr th {\n",
       "        vertical-align: top;\n",
       "    }\n",
       "\n",
       "    .dataframe thead th {\n",
       "        text-align: right;\n",
       "    }\n",
       "</style>\n",
       "<table border=\"1\" class=\"dataframe\">\n",
       "  <thead>\n",
       "    <tr style=\"text-align: right;\">\n",
       "      <th></th>\n",
       "      <th>SVM</th>\n",
       "    </tr>\n",
       "  </thead>\n",
       "  <tbody>\n",
       "    <tr>\n",
       "      <th>Test score</th>\n",
       "      <td>0.754</td>\n",
       "    </tr>\n",
       "    <tr>\n",
       "      <th>Train score</th>\n",
       "      <td>0.799</td>\n",
       "    </tr>\n",
       "    <tr>\n",
       "      <th>Sensitivity</th>\n",
       "      <td>0.552</td>\n",
       "    </tr>\n",
       "    <tr>\n",
       "      <th>Specificity</th>\n",
       "      <td>0.855</td>\n",
       "    </tr>\n",
       "    <tr>\n",
       "      <th>Precision</th>\n",
       "      <td>0.654</td>\n",
       "    </tr>\n",
       "  </tbody>\n",
       "</table>\n",
       "</div>"
      ],
      "text/plain": [
       "               SVM\n",
       "Test score   0.754\n",
       "Train score  0.799\n",
       "Sensitivity  0.552\n",
       "Specificity  0.855\n",
       "Precision    0.654"
      ]
     },
     "metadata": {},
     "output_type": "display_data"
    },
    {
     "data": {
      "text/html": [
       "<div>\n",
       "<style scoped>\n",
       "    .dataframe tbody tr th:only-of-type {\n",
       "        vertical-align: middle;\n",
       "    }\n",
       "\n",
       "    .dataframe tbody tr th {\n",
       "        vertical-align: top;\n",
       "    }\n",
       "\n",
       "    .dataframe thead th {\n",
       "        text-align: right;\n",
       "    }\n",
       "</style>\n",
       "<table border=\"1\" class=\"dataframe\">\n",
       "  <thead>\n",
       "    <tr style=\"text-align: right;\">\n",
       "      <th></th>\n",
       "      <th>Parameters</th>\n",
       "    </tr>\n",
       "  </thead>\n",
       "  <tbody>\n",
       "    <tr>\n",
       "      <th>SVM</th>\n",
       "      <td>{'C': 10, 'decision_function_shape': 'ovr', 'kernel': 'rbf', 'shrinking': True}</td>\n",
       "    </tr>\n",
       "  </tbody>\n",
       "</table>\n",
       "</div>"
      ],
      "text/plain": [
       "                                                                          Parameters\n",
       "SVM  {'C': 10, 'decision_function_shape': 'ovr', 'kernel': 'rbf', 'shrinking': True}"
      ]
     },
     "metadata": {},
     "output_type": "display_data"
    },
    {
     "data": {
      "text/html": [
       "<div>\n",
       "<style scoped>\n",
       "    .dataframe tbody tr th:only-of-type {\n",
       "        vertical-align: middle;\n",
       "    }\n",
       "\n",
       "    .dataframe tbody tr th {\n",
       "        vertical-align: top;\n",
       "    }\n",
       "\n",
       "    .dataframe thead th {\n",
       "        text-align: right;\n",
       "    }\n",
       "</style>\n",
       "<table border=\"1\" class=\"dataframe\">\n",
       "  <thead>\n",
       "    <tr style=\"text-align: right;\">\n",
       "      <th></th>\n",
       "      <th>Act. Positive</th>\n",
       "      <th>Act. Negative</th>\n",
       "      <th>Total</th>\n",
       "    </tr>\n",
       "  </thead>\n",
       "  <tbody>\n",
       "    <tr>\n",
       "      <th>Pred. Positive</th>\n",
       "      <td>18.3%</td>\n",
       "      <td>9.7%</td>\n",
       "      <td>81</td>\n",
       "    </tr>\n",
       "    <tr>\n",
       "      <th>Pred. Negative</th>\n",
       "      <td>14.9%</td>\n",
       "      <td>57.1%</td>\n",
       "      <td>208</td>\n",
       "    </tr>\n",
       "    <tr>\n",
       "      <th>Total</th>\n",
       "      <td>96</td>\n",
       "      <td>193</td>\n",
       "      <td>289</td>\n",
       "    </tr>\n",
       "  </tbody>\n",
       "</table>\n",
       "</div>"
      ],
      "text/plain": [
       "               Act. Positive Act. Negative  Total\n",
       "Pred. Positive         18.3%          9.7%     81\n",
       "Pred. Negative         14.9%         57.1%    208\n",
       "Total                     96           193    289"
      ]
     },
     "metadata": {},
     "output_type": "display_data"
    },
    {
     "data": {
      "image/png": "[encoded data removed]",
      "text/plain": [
       "<Figure size 432x288 with 1 Axes>"
      ]
     },
     "metadata": {},
     "output_type": "display_data"
    },
    {
     "name": "stdout",
     "output_type": "stream",
     "text": [
      "ROC AUC Score:  0.8168177892918825\n",
      "Runtime:  0.558  minutes\n"
     ]
    }
   ],
   "source": [
    "params = {\n",
    "    'kernel': ['rbf', 'linear'],\n",
    "    'C': [1, 1.5, 2, 5, 7, 10, 15],\n",
    "    'shrinking': [True, False],\n",
    "    'decision_function_shape' : ['ovr', 'ovo'],\n",
    "    }\n",
    "\n",
    "all_results, all_params, svm_best_model = fit_model(svm.SVC(probability=True), 'SVM', params, all_results, all_params)"
   ]
  },
  {
   "cell_type": "markdown",
   "metadata": {},
   "source": [
    "### KNN:"
   ]
  },
  {
   "cell_type": "code",
   "execution_count": 38,
   "metadata": {},
   "outputs": [
    {
     "data": {
      "text/html": [
       "<div>\n",
       "<style scoped>\n",
       "    .dataframe tbody tr th:only-of-type {\n",
       "        vertical-align: middle;\n",
       "    }\n",
       "\n",
       "    .dataframe tbody tr th {\n",
       "        vertical-align: top;\n",
       "    }\n",
       "\n",
       "    .dataframe thead th {\n",
       "        text-align: right;\n",
       "    }\n",
       "</style>\n",
       "<table border=\"1\" class=\"dataframe\">\n",
       "  <thead>\n",
       "    <tr style=\"text-align: right;\">\n",
       "      <th></th>\n",
       "      <th>KNN</th>\n",
       "    </tr>\n",
       "  </thead>\n",
       "  <tbody>\n",
       "    <tr>\n",
       "      <th>Test score</th>\n",
       "      <td>0.772</td>\n",
       "    </tr>\n",
       "    <tr>\n",
       "      <th>Train score</th>\n",
       "      <td>0.797</td>\n",
       "    </tr>\n",
       "    <tr>\n",
       "      <th>Sensitivity</th>\n",
       "      <td>0.573</td>\n",
       "    </tr>\n",
       "    <tr>\n",
       "      <th>Specificity</th>\n",
       "      <td>0.87</td>\n",
       "    </tr>\n",
       "    <tr>\n",
       "      <th>Precision</th>\n",
       "      <td>0.688</td>\n",
       "    </tr>\n",
       "  </tbody>\n",
       "</table>\n",
       "</div>"
      ],
      "text/plain": [
       "               KNN\n",
       "Test score   0.772\n",
       "Train score  0.797\n",
       "Sensitivity  0.573\n",
       "Specificity   0.87\n",
       "Precision    0.688"
      ]
     },
     "metadata": {},
     "output_type": "display_data"
    },
    {
     "data": {
      "text/html": [
       "<div>\n",
       "<style scoped>\n",
       "    .dataframe tbody tr th:only-of-type {\n",
       "        vertical-align: middle;\n",
       "    }\n",
       "\n",
       "    .dataframe tbody tr th {\n",
       "        vertical-align: top;\n",
       "    }\n",
       "\n",
       "    .dataframe thead th {\n",
       "        text-align: right;\n",
       "    }\n",
       "</style>\n",
       "<table border=\"1\" class=\"dataframe\">\n",
       "  <thead>\n",
       "    <tr style=\"text-align: right;\">\n",
       "      <th></th>\n",
       "      <th>Parameters</th>\n",
       "    </tr>\n",
       "  </thead>\n",
       "  <tbody>\n",
       "    <tr>\n",
       "      <th>KNN</th>\n",
       "      <td>{'metric': 'minkowski', 'n_neighbors': 40, 'p': 1, 'weights': 'distance'}</td>\n",
       "    </tr>\n",
       "  </tbody>\n",
       "</table>\n",
       "</div>"
      ],
      "text/plain": [
       "                                                                    Parameters\n",
       "KNN  {'metric': 'minkowski', 'n_neighbors': 40, 'p': 1, 'weights': 'distance'}"
      ]
     },
     "metadata": {},
     "output_type": "display_data"
    },
    {
     "data": {
      "text/html": [
       "<div>\n",
       "<style scoped>\n",
       "    .dataframe tbody tr th:only-of-type {\n",
       "        vertical-align: middle;\n",
       "    }\n",
       "\n",
       "    .dataframe tbody tr th {\n",
       "        vertical-align: top;\n",
       "    }\n",
       "\n",
       "    .dataframe thead th {\n",
       "        text-align: right;\n",
       "    }\n",
       "</style>\n",
       "<table border=\"1\" class=\"dataframe\">\n",
       "  <thead>\n",
       "    <tr style=\"text-align: right;\">\n",
       "      <th></th>\n",
       "      <th>Act. Positive</th>\n",
       "      <th>Act. Negative</th>\n",
       "      <th>Total</th>\n",
       "    </tr>\n",
       "  </thead>\n",
       "  <tbody>\n",
       "    <tr>\n",
       "      <th>Pred. Positive</th>\n",
       "      <td>19.0%</td>\n",
       "      <td>8.7%</td>\n",
       "      <td>80</td>\n",
       "    </tr>\n",
       "    <tr>\n",
       "      <th>Pred. Negative</th>\n",
       "      <td>14.2%</td>\n",
       "      <td>58.1%</td>\n",
       "      <td>209</td>\n",
       "    </tr>\n",
       "    <tr>\n",
       "      <th>Total</th>\n",
       "      <td>96</td>\n",
       "      <td>193</td>\n",
       "      <td>289</td>\n",
       "    </tr>\n",
       "  </tbody>\n",
       "</table>\n",
       "</div>"
      ],
      "text/plain": [
       "               Act. Positive Act. Negative  Total\n",
       "Pred. Positive         19.0%          8.7%     80\n",
       "Pred. Negative         14.2%         58.1%    209\n",
       "Total                     96           193    289"
      ]
     },
     "metadata": {},
     "output_type": "display_data"
    },
    {
     "data": {
      "image/png": "[encoded data removed]",
      "text/plain": [
       "<Figure size 432x288 with 1 Axes>"
      ]
     },
     "metadata": {},
     "output_type": "display_data"
    },
    {
     "name": "stdout",
     "output_type": "stream",
     "text": [
      "ROC AUC Score:  0.8244818652849741\n",
      "Runtime:  0.155  minutes\n"
     ]
    }
   ],
   "source": [
    "params = {\n",
    "    'n_neighbors': [3, 4, 5, 10, 15, 20, 30, 40, 50],\n",
    "    'weights': ['distance'],\n",
    "    'metric': ['minkowski'],\n",
    "    'p': [1, 2, 3] # p = 1 and 2 correspondes to Manhattan and Euclidean distance metrics repsectively\n",
    "}\n",
    "all_results, all_params, knn_best_model = fit_model(KNeighborsClassifier(), 'KNN', params, all_results, all_params)"
   ]
  },
  {
   "cell_type": "markdown",
   "metadata": {},
   "source": [
    "### Random Forest:"
   ]
  },
  {
   "cell_type": "code",
   "execution_count": null,
   "metadata": {
    "scrolled": false
   },
   "outputs": [],
   "source": [
    "max_feat_default = np.sqrt(len(X_train.columns))\n",
    "max_feat_to_check = range(\n",
    "                        int(max_feat_default - 0 * max_feat_default), # 0% lowerbound of default setting: sqrt(features)\n",
    "                        int(max_feat_default + 4 * max_feat_default), # 200% upperbound of default setting: sqrt(features)\n",
    "                        int(2 * max_feat_default)) # Step size: 50% of default: sqrt(features)\n",
    "# max_feat_to_check.append(None)\n",
    "\n",
    "params = {\n",
    "    'n_estimators': [60, 75, 90],\n",
    "    'min_samples_split': [3, 4],\n",
    "    'min_samples_leaf': [6, 7],\n",
    "    'bootstrap': [False],\n",
    "    'max_depth':[7, 10],\n",
    "    'max_leaf_nodes': [None],\n",
    "    'max_features': max_feat_to_check\n",
    "}\n",
    "all_results, all_params, rf_best_model = fit_model(RandomForestClassifier(), 'Random Forest', params, all_results, all_params)\n",
    "\n",
    "print('Max features default: ', max_feat_default)\n",
    "\n",
    "# Top features\n",
    "feat_importance = pd.DataFrame(rf_best_model.feature_importances_, index=X_train.columns).sort_values(by=0, ascending=False)\n",
    "feat_importance.head(10).plot(kind='barh')"
   ]
  },
  {
   "cell_type": "markdown",
   "metadata": {},
   "source": [
    "## ExtraTrees:"
   ]
  },
  {
   "cell_type": "code",
   "execution_count": null,
   "metadata": {},
   "outputs": [],
   "source": [
    "# Extra Trees\n",
    "et_params = {\n",
    "    'n_estimators': [60, 75, 90],\n",
    "    'min_samples_split': [5, 6],\n",
    "    'min_samples_leaf': [3, 4, 5],\n",
    "    'max_depth':[5, 10, 20],\n",
    "    'max_leaf_nodes': [10, 20, 30],\n",
    "    'bootstrap': [False],\n",
    "    'max_features': [None]\n",
    "}\n",
    "\n",
    "all_results, all_params, et_best_model = fit_model(ExtraTreesClassifier(), 'Extra Trees', et_params, all_results, all_params)\n",
    "\n",
    "\n",
    "# plot important features\n",
    "feat_importance = pd.DataFrame(et_best_model.feature_importances_, X_train.columns, columns=['importance'])\n",
    "feat_importance.sort_values('importance', ascending=False).head(10).plot(kind='barh')"
   ]
  },
  {
   "cell_type": "markdown",
   "metadata": {},
   "source": [
    "# Adaboost:"
   ]
  },
  {
   "cell_type": "code",
   "execution_count": null,
   "metadata": {},
   "outputs": [],
   "source": [
    "# AdaBoost\n",
    "ada_params = {\n",
    "    'n_estimators': [10, 25, 50, 100],\n",
    "    'learning_rate': [.25, .75, 1.0, 1.25, 2, 5],\n",
    "}\n",
    "\n",
    "all_results, all_params, ada_best_model = fit_model(AdaBoostClassifier(), 'AdaBoost', ada_params, all_results, all_params)\n",
    "\n",
    "\n",
    "# plot important features\n",
    "feat_importance = pd.DataFrame(ada_best_model.feature_importances_, X_train.columns, columns=['importance'])\n",
    "feat_importance.sort_values('importance', ascending=False).head(10).plot(kind='barh')"
   ]
  },
  {
   "cell_type": "code",
   "execution_count": null,
   "metadata": {},
   "outputs": [],
   "source": [
    "# checking with daylength added and mosq peak season changes to wmv peak (week 31)\n",
    "#     .79, .81, .77, .80, .80, .78, .78"
   ]
  },
  {
   "cell_type": "markdown",
   "metadata": {},
   "source": [
    "<hr>\n",
    "# Results from all Models Tested:"
   ]
  },
  {
   "cell_type": "code",
   "execution_count": null,
   "metadata": {},
   "outputs": [],
   "source": [
    "all_results['Overall Average Score'] = round(all_results.mean(axis=1), 3)\n",
    "display(all_results)\n",
    "display(all_params)"
   ]
  },
  {
   "cell_type": "markdown",
   "metadata": {},
   "source": [
    "<hr>\n",
    "# Make Predictions and Save to .CSV"
   ]
  },
  {
   "cell_type": "code",
   "execution_count": null,
   "metadata": {},
   "outputs": [],
   "source": [
    "# Make predictions on the test set with one of the best models\n",
    "pred = rf_best_model.predict(test_no_addresses)"
   ]
  },
  {
   "cell_type": "code",
   "execution_count": null,
   "metadata": {},
   "outputs": [],
   "source": [
    "# Check predictions to see if it worked.\n",
    "pd.DataFrame(pred)[0].value_counts()"
   ]
  },
  {
   "cell_type": "code",
   "execution_count": null,
   "metadata": {},
   "outputs": [],
   "source": [
    "# Make .csv\n",
    "submission = pd.concat([test['Id'], pd.Series(pred)], axis=1).set_index('Id')\n",
    "submission = submission.rename({0: 'WnvPresent'}, axis='columns')\n",
    "submission.to_csv('submission/submission_' + str(int(time.time())) + '.csv')"
   ]
  },
  {
   "cell_type": "code",
   "execution_count": null,
   "metadata": {},
   "outputs": [],
   "source": [
    "# print the runtime\n",
    "all_end_time = time.time()\n",
    "print('Overall Runtime: ', round((all_end_time - all_start_time)/60, 3), ' minutes')"
   ]
  },
  {
   "cell_type": "markdown",
   "metadata": {},
   "source": [
    "Kaggle submission site:\n",
    "https://www.kaggle.com/c/predict-west-nile-virus/leaderboard"
   ]
  },
  {
   "cell_type": "code",
   "execution_count": null,
   "metadata": {},
   "outputs": [],
   "source": []
  }
 ],
 "metadata": {
  "kernelspec": {
   "display_name": "Python 3",
   "language": "python",
   "name": "python3"
  },
  "language_info": {
   "codemirror_mode": {
    "name": "ipython",
    "version": 3
   },
   "file_extension": ".py",
   "mimetype": "text/x-python",
   "name": "python",
   "nbconvert_exporter": "python",
   "pygments_lexer": "ipython3",
   "version": "3.6.5"
  }
 },
 "nbformat": 4,
 "nbformat_minor": 2
}
